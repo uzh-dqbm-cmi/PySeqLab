{
 "cells": [
  {
   "cell_type": "code",
   "execution_count": 3,
   "metadata": {
    "collapsed": false
   },
   "outputs": [
    {
     "data": {
      "text/html": [
       "\n",
       "<style>\n",
       "/* \n",
       "for more info and resources check these links:\n",
       "http://stackoverflow.com/questions/34303422/how-to-change-the-font-size-and-color-of-markdown-cell-in-ipython-py-2-7-noteb\n",
       "http://nbviewer.jupyter.org/github/Carreau/posts/blob/master/Blog1.ipynb\n",
       "\n",
       "*/\n",
       "\n",
       "div.cell { /* Tunes the space between cells */\n",
       "margin-top:0.5em;\n",
       "margin-bottom:0.5em;\n",
       "}\n",
       "\n",
       "div.text_cell_render h1 { /* Main titles bigger, centered */\n",
       "font-size: 1.7em;\n",
       "line-height:1.1em;\n",
       "text-align:left;\n",
       "}\n",
       "\n",
       "div.text_cell_render h2 { /*  Parts names nearer from text */\n",
       "margin-bottom: -0.1em;\n",
       "}\n",
       "\n",
       "\n",
       "div.text_cell_render { /* Customize text cells */\n",
       "font-family: 'Times New Roman';\n",
       "font-size:1.3em;\n",
       "line-height:1.3em;\n",
       "padding-left:1em;\n",
       "padding-right:1em;\n",
       "}\n",
       "\n",
       "tr.pseq_border{\n",
       " border-bottom:1pt solid black;\n",
       " border: 1px solid green;\n",
       " padding: 5px;\n",
       "}\n",
       "\n",
       ".pseq_class{\n",
       "font-weight:bold;\n",
       "color:blue;\n",
       "}\n",
       ".pseq_attr{\n",
       "font-weight:bold;\n",
       "font-style:italic;\n",
       "}\n",
       ".pseq_method{\n",
       "font-weight:bold;\n",
       "color:blue;\n",
       "}\n",
       ".pseq_args{\n",
       "font-weight:bold;\n",
       "}\n",
       "\n",
       "code.pseq_code{\n",
       "font-size:0.85em;\n",
       "}\n",
       "code.pseq_class{\n",
       "font-size:0.9em;\n",
       "font-weight:bold;\n",
       "color:blue;\n",
       "}\n",
       "code.pseq_method{\n",
       "font-size:0.9em;\n",
       "font-weight:bold;\n",
       "color:blue;\n",
       "}\n",
       "code.pseq_attr{\n",
       "font-size:0.9em;\n",
       "font-weight:bold;\n",
       "font-style:italic;\n",
       "}\n",
       "code.pseq_args{\n",
       "font-size:0.85em;\n",
       "font-weight:bold;\n",
       "}\n",
       "code.pseq_var{\n",
       "font-size:0.85em;\n",
       "}\n",
       "</style>"
      ],
      "text/plain": [
       "<IPython.core.display.HTML object>"
      ]
     },
     "execution_count": 3,
     "metadata": {},
     "output_type": "execute_result"
    }
   ],
   "source": [
    "# importing and defining relevant directories\n",
    "import sys\n",
    "import os\n",
    "# pyseqlab root directory\n",
    "pyseqlab_dir = os.path.abspath(os.path.join(os.getcwd(), os.pardir))\n",
    "# print(\"pyseqlab cloned dir:\", pyseqlab_dir)\n",
    "# inserting the pyseqlab directory to pythons system path\n",
    "# if pyseqlab is already installed this could be commented out\n",
    "sys.path.insert(0, pyseqlab_dir)\n",
    "# current directory (tutorials)\n",
    "tutorials_dir = os.path.join(pyseqlab_dir, 'tutorials')\n",
    "# print(\"tutorials_dir:\", tutorials_dir)\n",
    "dataset_dir = os.path.join(tutorials_dir, 'datasets', 'conll2000')\n",
    "# print(\"dataset_dir:\", dataset_dir)\n",
    "# to use for customizing the display/format of the cells\n",
    "from IPython.core.display import HTML\n",
    "with open(os.path.join(tutorials_dir, 'pseqlab_base.css')) as f:\n",
    "    css = \"\".join(f.readlines())\n",
    "HTML(css)"
   ]
  },
  {
   "cell_type": "markdown",
   "metadata": {},
   "source": [
    "# Table of Contents\n",
    "* [1. Objectives and goals](#1.-Objectives-and-goals)\n",
    "* [2. Representing sequences](#2.-Representing-sequences)\n",
    "* [3. Input file format](#3.-Input-file-format)\n",
    "* [4. Parsing sequences](#4.-Parsing-sequences)\n",
    "* [5. Constructing sequences programatically](#5.-Constructing-sequences-programatically)\n",
    "* [6. Constructing segments programatically](#6.-Constructing-segments-programatically)\n"
   ]
  },
  {
   "cell_type": "markdown",
   "metadata": {},
   "source": [
    "# 1. Objectives and goals"
   ]
  },
  {
   "cell_type": "markdown",
   "metadata": {},
   "source": [
    "In this tutorial, we will learn how to:\n",
    "<ul>\n",
    "<li> read <strong>sequences/segments </strong>from a file (additionally we will explain the <strong>file/input format</strong>)</li>\n",
    "<li> construct and represent <strong>sequences/segments</strong> programmatically to use later in the <a href=\"https://bitbucket.org/A_2/pyseqlab\">PySeqLab</a> package for\n",
    "building/training models</li>\n",
    "</ul>\n",
    "\n",
    "<strong><em>Reminder</em></strong>: To work with this tutorial interactively, we need first to clone the <a href=\"https://bitbucket.org/A_2/pyseqlab\">PySeqLab</a> package to our disk locally and then navigate to <strong>[cloned_package_dir]/tutorials</strong> where <strong>[cloned_package_dir]</strong> is the path to the cloned package folder (see tree path for display).\n",
    "<pre style=\"font-size:0.8em;\">\n",
    "├── pyseqlab\n",
    "    ├── tutorials\n",
    "    │   ├── datasets\n",
    "    │   │   ├── conll2000\n",
    "    │   │   ├── segments\n",
    "\n",
    "</pre>\n",
    "\n",
    "We start our discussion about the sequences concept and the file format comprising them."
   ]
  },
  {
   "cell_type": "markdown",
   "metadata": {},
   "source": [
    "# 2. Representing sequences"
   ]
  },
  {
   "cell_type": "markdown",
   "metadata": {},
   "source": [
    "Generally speaking, a sequence is a list of elements that follow an order (see <a href=\"https://en.wikipedia.org/wiki/Sequence\">sequences</a>). The order could be due to an inherent structure such as sentences (sequence of words) or temporal such as readings/measurements from a sensor.\n",
    "<br/>\n",
    "\n",
    "<strong>Sequence labeling</strong> is an important task in multiple domains where given a sequence of observations, the goal is to label/tag each observation using a set of permissible tags that represent higher order syntactic structure. \n",
    "<br/>\n",
    "\n",
    "For example, given a sentence (sequence of words), the goal is to tag/label each word by its <a href=\"https://en.wikipedia.org/wiki/Part_of_speech\">part-of-speech</a>. Another example is chunking/shallow parsing using <a href=\"http://www.cnts.ua.ac.be/conll2000/chunking/\">CoNLL 2000 dataset</a>. Given a set of sentences (our sequences) where each sentence is composed of <strong><span style=\"color:green;\">words</span></strong> and their corresponding <strong><span style=\"color:green;\">part-of-speech</span></strong>, the goal is to predict the <strong><span style=\"color:green;\">chunk/shallow parse label</span></strong> of every word in the sentence.\n",
    "\n",
    "With this preliminary definition in mind, we can start our investigation on how to represent/parse sequences. In this tutorial we will use <a href=\"http://www.cnts.ua.ac.be/conll2000/chunking/\">CoNLL 2000</a> sentences as an example of sequences."
   ]
  },
  {
   "cell_type": "markdown",
   "metadata": {},
   "source": [
    "# 3. Input file format"
   ]
  },
  {
   "cell_type": "markdown",
   "metadata": {},
   "source": [
    "The input file comprising the sequences follows a <strong><span style=\"color:red;\">column-format</span></strong> template. Sequences are separated by newline where the observations/elements of each sequence are laid each on a separate line.  The last column is dedicated for the tag/label that we aim to predict.\n",
    "<br/>\n",
    "\n",
    "The dataset files (training and test files) of the CoNLL task follow the input file template (i.e. <strong><span style=\"color:red;\">column-format</span></strong>). An excerpt of the training file:\n",
    "<pre style=\"font-size:0.8em;\">\n",
    "w pos chunk\n",
    "Confidence NN B-NP\n",
    "in IN B-PP\n",
    "the DT B-NP\n",
    "pound NN I-NP\n",
    "is VBZ B-VP\n",
    "widely RB I-VP\n",
    "expected VBN I-VP\n",
    "to TO I-VP\n",
    "take VB I-VP\n",
    "another DT B-NP\n",
    "sharp JJ I-NP\n",
    "dive NN I-NP\n",
    "if IN B-SBAR\n",
    "trade NN B-NP\n",
    "figures NNS I-NP\n",
    "for IN B-PP\n",
    "September NNP B-NP\n",
    ", , O\n",
    "due JJ B-ADJP\n",
    "for IN B-PP\n",
    "release NN B-NP\n",
    "tomorrow NN B-NP\n",
    ", , O\n",
    "fail VB B-VP\n",
    "to TO I-VP\n",
    "show VB I-VP\n",
    "a DT B-NP\n",
    "substantial JJ I-NP\n",
    "improvement NN I-NP\n",
    "from IN B-PP\n",
    "July NNP B-NP\n",
    "and CC I-NP\n",
    "August NNP I-NP\n",
    "'s POS B-NP\n",
    "near-record JJ I-NP\n",
    "deficits NNS I-NP\n",
    ". . O\n",
    "\n",
    "Chancellor NNP O\n",
    "of IN B-PP\n",
    "the DT B-NP\n",
    "Exchequer NNP I-NP\n",
    "Nigel NNP B-NP\n",
    "Lawson NNP I-NP\n",
    "'s POS B-NP\n",
    "restated VBN I-NP\n",
    "commitment NN I-NP\n",
    "to TO B-PP\n",
    "a DT B-NP\n",
    "firm NN I-NP\n",
    "monetary JJ I-NP\n",
    "policy NN I-NP\n",
    "has VBZ B-VP\n",
    "helped VBN I-VP\n",
    "to TO I-VP\n",
    "prevent VB I-VP\n",
    "a DT B-NP\n",
    "freefall NN I-NP\n",
    "in IN B-PP\n",
    "sterling NN B-NP\n",
    "over IN B-PP\n",
    "the DT B-NP\n",
    "past JJ I-NP\n",
    "week NN I-NP\n",
    ". . O\n",
    "</pre>\n",
    "\n",
    "Looking at the two sentences, we can identify two tracks of observations (1) words and (2) part-of-speech. The two tracks are separated by a space as separate columns and the last column representing the label/tag. Sentences are separated by a new line. To be consistent with the terminology, we will use the following terms/definitions:\n",
    "<ul>\n",
    "<li><em><span style=\"color:green;\">sequence</span></em>: to refer to a list of elements that follow an order</li>\n",
    "<li><em><span style=\"color:green;\">observation</span></em>: to refer to an element in the sequence</li>\n",
    "<li><em><span style=\"color:green;\">track</span></em>: to refer to different types of observations. In the chunking example, we have a track for the words and another for the part-of-speech</li>\n",
    "<li><em><span style=\"color:green;\">label/tag</span></em>: to refer to the outcome/class we want to predict\n",
    "</ul>\n",
    "\n",
    "This file format could support as many tracks as we want where new tracks could be added as separate columns while keeping the last column for the tag/label.\n",
    "\n",
    "To read this file format, <a href=\"https://bitbucket.org/A_2/pyseqlab\">PySeqLab</a> provides a <code class=\"pseq_class\">DataFileParser</code> in the <code class=\"pseq_code\">utilities</code> module.\n",
    "<br/>\n",
    "\n",
    "As a reminder, a visual tree directory for the dataset folder under the current directory (<code class=\"pseq_code\">tutorials</code>) is provided below:\n",
    "<pre style=\"font-size:0.8em;\">\n",
    "├── tutorials\n",
    "    ├── datasets\n",
    "    │   ├── conll2000\n",
    "    │   │   ├── test.txt\n",
    "    │   │   ├── train.txt\n",
    "    │   ├── segments\n",
    "    │   │   ├── segments.txt\n",
    "</pre>"
   ]
  },
  {
   "cell_type": "markdown",
   "metadata": {},
   "source": [
    "# 4. Parsing sequences"
   ]
  },
  {
   "cell_type": "markdown",
   "metadata": {},
   "source": [
    "The <code class=\"pseq_class\">DataFileParser</code> class has a <code class=\"pseq_method\">read_file(args)</code> method that has the following:\n",
    "<br/>\n",
    "\n",
    "<strong>Arguments</strong>:\n",
    "<ul>\n",
    "<li><code class=\"pseq_args\">file_path</code>: (string), directory/path to the file to be read</li>\n",
    "<li><code class=\"pseq_args\">header</code>: (string or list)\n",
    "    <ul><li><code class=\"pseq_code\">'main'</code>: in case there is only one header at the top of the file</li>\n",
    "        <li><code class=\"pseq_code\">'per_sequence'</code>: in case there is a header line before every sequence</li>\n",
    "        <li>list of keywords such as <code class=\"pseq_code\">['w', 'part_of_speech']</code> in case no header is provided in the file</li>\n",
    "    </ul>\n",
    "</li>\n",
    "</ul>\n",
    "\n",
    "<strong>Keyword arguments</strong>:\n",
    "<ul>\n",
    "<li><code class=\"pseq_args\">y_ref</code>: (boolean), specifying if the last column is the tag/label column</li>\n",
    "<li><code class=\"pseq_args\">seg_other_symbol</code>: (string or <code class=\"pseq_code\"><span style=\"color:blue;\">None</span></code> as default), it specifies if we want to parse sequences versus segments. Consult to <a href='#segments'>segments section</a> in this notebook for further explanation</li>\n",
    "<li><code class=\"pseq_args\">column_sep</code>: (string), specifying the separator between the tracks (columns of observations) to be read</li>\n",
    "</ul>\n",
    "\n",
    "For the CoNLL task, we will set both the arguments and keyword arguments in the following cells to read the training file."
   ]
  },
  {
   "cell_type": "code",
   "execution_count": 4,
   "metadata": {
    "collapsed": false
   },
   "outputs": [
    {
     "name": "stdout",
     "output_type": "stream",
     "text": [
      "Y sequence:\n",
      " ['B-NP', 'B-PP', 'B-NP', 'I-NP', 'B-VP', 'I-VP', 'I-VP', 'I-VP', 'I-VP', 'B-NP', 'I-NP', 'I-NP', 'B-SBAR', 'B-NP', 'I-NP', 'B-PP', 'B-NP', 'O', 'B-ADJP', 'B-PP', 'B-NP', 'B-NP', 'O', 'B-VP', 'I-VP', 'I-VP', 'B-NP', 'I-NP', 'I-NP', 'B-PP', 'B-NP', 'I-NP', 'I-NP', 'B-NP', 'I-NP', 'I-NP', 'O']\n",
      "X sequence:\n",
      " {1: {'pos': 'NN', 'w': 'Confidence'}, 2: {'pos': 'IN', 'w': 'in'}, 3: {'pos': 'DT', 'w': 'the'}, 4: {'pos': 'NN', 'w': 'pound'}, 5: {'pos': 'VBZ', 'w': 'is'}, 6: {'pos': 'RB', 'w': 'widely'}, 7: {'pos': 'VBN', 'w': 'expected'}, 8: {'pos': 'TO', 'w': 'to'}, 9: {'pos': 'VB', 'w': 'take'}, 10: {'pos': 'DT', 'w': 'another'}, 11: {'pos': 'JJ', 'w': 'sharp'}, 12: {'pos': 'NN', 'w': 'dive'}, 13: {'pos': 'IN', 'w': 'if'}, 14: {'pos': 'NN', 'w': 'trade'}, 15: {'pos': 'NNS', 'w': 'figures'}, 16: {'pos': 'IN', 'w': 'for'}, 17: {'pos': 'NNP', 'w': 'September'}, 18: {'pos': ',', 'w': ','}, 19: {'pos': 'JJ', 'w': 'due'}, 20: {'pos': 'IN', 'w': 'for'}, 21: {'pos': 'NN', 'w': 'release'}, 22: {'pos': 'NN', 'w': 'tomorrow'}, 23: {'pos': ',', 'w': ','}, 24: {'pos': 'VB', 'w': 'fail'}, 25: {'pos': 'TO', 'w': 'to'}, 26: {'pos': 'VB', 'w': 'show'}, 27: {'pos': 'DT', 'w': 'a'}, 28: {'pos': 'JJ', 'w': 'substantial'}, 29: {'pos': 'NN', 'w': 'improvement'}, 30: {'pos': 'IN', 'w': 'from'}, 31: {'pos': 'NNP', 'w': 'July'}, 32: {'pos': 'CC', 'w': 'and'}, 33: {'pos': 'NNP', 'w': 'August'}, 34: {'pos': 'POS', 'w': \"'s\"}, 35: {'pos': 'JJ', 'w': 'near-record'}, 36: {'pos': 'NNS', 'w': 'deficits'}, 37: {'pos': '.', 'w': '.'}}\n",
      "----------------------------------------\n",
      "type(seq): <class 'pyseqlab.utilities.SequenceStruct'>\n",
      "number of parsed sequences is:  8936\n"
     ]
    }
   ],
   "source": [
    "from pyseqlab.utilities import DataFileParser\n",
    "# initialize a data file parser\n",
    "dparser = DataFileParser()\n",
    "# provide the options to parser such as the header info, the separator between words and if the y label is already existing\n",
    "# main means the header is found in the first line of the file\n",
    "header = \"main\"\n",
    "# y_ref is a boolean indicating if the label to predict is already found in the file\n",
    "y_ref = True\n",
    "# spearator between the words/observations\n",
    "column_sep = \" \"\n",
    "seqs = []\n",
    "for seq in dparser.read_file(os.path.join(dataset_dir, 'train.txt'), header, y_ref=y_ref, column_sep = column_sep):\n",
    "    seqs.append(seq)\n",
    "    \n",
    "# printing one sequence for display\n",
    "print(seqs[0])\n",
    "print(\"type(seq):\", type(seqs[0]))\n",
    "print(\"number of parsed sequences is: \", len(seqs))"
   ]
  },
  {
   "cell_type": "code",
   "execution_count": 6,
   "metadata": {
    "collapsed": false
   },
   "outputs": [
    {
     "name": "stdout",
     "output_type": "stream",
     "text": [
      "X:\n",
      "{1: {'pos': 'NN', 'w': 'Confidence'}, 2: {'pos': 'IN', 'w': 'in'}, 3: {'pos': 'DT', 'w': 'the'}, 4: {'pos': 'NN', 'w': 'pound'}, 5: {'pos': 'VBZ', 'w': 'is'}, 6: {'pos': 'RB', 'w': 'widely'}, 7: {'pos': 'VBN', 'w': 'expected'}, 8: {'pos': 'TO', 'w': 'to'}, 9: {'pos': 'VB', 'w': 'take'}, 10: {'pos': 'DT', 'w': 'another'}, 11: {'pos': 'JJ', 'w': 'sharp'}, 12: {'pos': 'NN', 'w': 'dive'}, 13: {'pos': 'IN', 'w': 'if'}, 14: {'pos': 'NN', 'w': 'trade'}, 15: {'pos': 'NNS', 'w': 'figures'}, 16: {'pos': 'IN', 'w': 'for'}, 17: {'pos': 'NNP', 'w': 'September'}, 18: {'pos': ',', 'w': ','}, 19: {'pos': 'JJ', 'w': 'due'}, 20: {'pos': 'IN', 'w': 'for'}, 21: {'pos': 'NN', 'w': 'release'}, 22: {'pos': 'NN', 'w': 'tomorrow'}, 23: {'pos': ',', 'w': ','}, 24: {'pos': 'VB', 'w': 'fail'}, 25: {'pos': 'TO', 'w': 'to'}, 26: {'pos': 'VB', 'w': 'show'}, 27: {'pos': 'DT', 'w': 'a'}, 28: {'pos': 'JJ', 'w': 'substantial'}, 29: {'pos': 'NN', 'w': 'improvement'}, 30: {'pos': 'IN', 'w': 'from'}, 31: {'pos': 'NNP', 'w': 'July'}, 32: {'pos': 'CC', 'w': 'and'}, 33: {'pos': 'NNP', 'w': 'August'}, 34: {'pos': 'POS', 'w': \"'s\"}, 35: {'pos': 'JJ', 'w': 'near-record'}, 36: {'pos': 'NNS', 'w': 'deficits'}, 37: {'pos': '.', 'w': '.'}}\n",
      "----------------------------------------\n",
      "Y:\n",
      "{(35, 35): 'I-NP', (20, 20): 'B-PP', (13, 13): 'B-SBAR', (29, 29): 'I-NP', (6, 6): 'I-VP', (2, 2): 'B-PP', (31, 31): 'B-NP', (12, 12): 'I-NP', (11, 11): 'I-NP', (7, 7): 'I-VP', (23, 23): 'O', (27, 27): 'B-NP', (25, 25): 'I-VP', (16, 16): 'B-PP', (22, 22): 'B-NP', (34, 34): 'B-NP', (37, 37): 'O', (33, 33): 'I-NP', (21, 21): 'B-NP', (26, 26): 'I-VP', (5, 5): 'B-VP', (10, 10): 'B-NP', (36, 36): 'I-NP', (4, 4): 'I-NP', (9, 9): 'I-VP', (17, 17): 'B-NP', (30, 30): 'B-PP', (24, 24): 'B-VP', (8, 8): 'I-VP', (32, 32): 'I-NP', (14, 14): 'B-NP', (18, 18): 'O', (3, 3): 'B-NP', (28, 28): 'I-NP', (19, 19): 'B-ADJP', (15, 15): 'I-NP', (1, 1): 'B-NP'}\n",
      "----------------------------------------\n",
      "flat_y:\n",
      "['B-NP', 'B-PP', 'B-NP', 'I-NP', 'B-VP', 'I-VP', 'I-VP', 'I-VP', 'I-VP', 'B-NP', 'I-NP', 'I-NP', 'B-SBAR', 'B-NP', 'I-NP', 'B-PP', 'B-NP', 'O', 'B-ADJP', 'B-PP', 'B-NP', 'B-NP', 'O', 'B-VP', 'I-VP', 'I-VP', 'B-NP', 'I-NP', 'I-NP', 'B-PP', 'B-NP', 'I-NP', 'I-NP', 'B-NP', 'I-NP', 'I-NP', 'O']\n",
      "----------------------------------------\n"
     ]
    }
   ],
   "source": [
    "seq = seqs[0]\n",
    "print(\"X:\")\n",
    "print(seq.X)\n",
    "print(\"-\"*40)\n",
    "print(\"Y:\")\n",
    "print(seq.Y)\n",
    "print(\"-\"*40)\n",
    "print(\"flat_y:\")\n",
    "print(seq.flat_y)\n",
    "print(\"-\"*40)"
   ]
  },
  {
   "cell_type": "markdown",
   "metadata": {},
   "source": [
    "The parser read 8936 sequences from the training file. Each sequence is an instance of <code class=\"pseq_class\">SequenceStruct</code> class that is also\n",
    "found in the <code class=\"pseq_code\">utilities</code> module in <a href=\"https://bitbucket.org/A_2/pyseqlab\">PySeqLab</a> package.\n",
    "The three main attributes of a sequence are as follows:\n",
    "\n",
    "<ul>\n",
    "<li><code class=\"pseq_attr\">X</code>: dictionary of dictionaries. For each position in the sequence, we have a dictionary that includes the track name and the corresponding observation at that position as <code class=\"pseq_code\">key:value</code> pairs. The track names are the ones extracted from the header variable specified while parsing the file. Example:\n",
    "<pre style=\"font-size:0.8em;\">\n",
    "X:\n",
    "{1: {'pos': 'NN', 'w': 'Confidence'}, 2: {'pos': 'IN', 'w': 'in'}, 3: {'pos': 'DT', 'w': 'the'}, 4: {'pos': 'NN', 'w': 'pound'}, 5: {'pos': 'VBZ', 'w': 'is'}, 6: {'pos': 'RB', 'w': 'widely'}, 7: {'pos': 'VBN', 'w': 'expected'}, 8: {'pos': 'TO', 'w': 'to'}, 9: {'pos': 'VB', 'w': 'take'}, 10: {'pos': 'DT', 'w': 'another'}, 11: {'pos': 'JJ', 'w': 'sharp'}, 12: {'pos': 'NN', 'w': 'dive'}, 13: {'pos': 'IN', 'w': 'if'}, 14: {'pos': 'NN', 'w': 'trade'}, 15: {'pos': 'NNS', 'w': 'figures'}, 16: {'pos': 'IN', 'w': 'for'}, 17: {'pos': 'NNP', 'w': 'September'}, 18: {'pos': ',', 'w': ','}, 19: {'pos': 'JJ', 'w': 'due'}, 20: {'pos': 'IN', 'w': 'for'}, 21: {'pos': 'NN', 'w': 'release'}, 22: {'pos': 'NN', 'w': 'tomorrow'}, 23: {'pos': ',', 'w': ','}, 24: {'pos': 'VB', 'w': 'fail'}, 25: {'pos': 'TO', 'w': 'to'}, 26: {'pos': 'VB', 'w': 'show'}, 27: {'pos': 'DT', 'w': 'a'}, 28: {'pos': 'JJ', 'w': 'substantial'}, 29: {'pos': 'NN', 'w': 'improvement'}, 30: {'pos': 'IN', 'w': 'from'}, 31: {'pos': 'NNP', 'w': 'July'}, 32: {'pos': 'CC', 'w': 'and'}, 33: {'pos': 'NNP', 'w': 'August'}, 34: {'pos': 'POS', 'w': \"'s\"}, 35: {'pos': 'JJ', 'w': 'near-record'}, 36: {'pos': 'NNS', 'w': 'deficits'}, 37: {'pos': '.', 'w': '.'}}\n",
    "</pre>\n",
    "The keys in the dictionary are the numbered positions such as {<span style=\"font-weight:bold;color:red;\">1</span>: {<span style=\"font-weight:bold;color:red;\">'pos'</span>: <span style=\"font-weight:bold;color:green;\">'NN'</span>, <span style=\"font-weight:bold;color:red;\">'w'</span>: <span style=\"font-weight:bold;color:green;\">'Confidence'</span>}} where <span style=\"font-weight:bold;color:red;\">1</span> is the position where we are inspecting the sequence and {<span style=\"font-weight:bold;color:red;\">'pos'</span>: <span style=\"font-weight:bold;color:green;\">'NN'</span>, <span style=\"font-weight:bold;color:red;\">'w'</span>: <span style=\"font-weight:bold;color:green;\">'Confidence'</span>} are the observations detected at that position. Moreover, <span style=\"font-weight:bold;color:green;\">'Confidence'</span> observation belongs to the <span style=\"font-weight:bold;color:red;\">word</span> track (using <span style=\"font-weight:bold;color:red;\">'w'</span> as key) and <span style=\"font-weight:bold;color:green;\">'NN'</span> observation to the <span style=\"font-weight:bold;color:red;\">part-of-speech</span> track (using <span style=\"font-weight:bold;color:red;\">'pos'</span> as key).\n",
    "\n",
    "<li><code class=\"pseq_attr\">Y</code>: dictionary specifying the labels/tags and their corresponding boundaries across the whole sequence. Example:\n",
    "<pre style=\"font-size:0.8em;\">\n",
    "Y:\n",
    "{(35, 35): 'I-NP', (20, 20): 'B-PP', (13, 13): 'B-SBAR', (29, 29): 'I-NP', (6, 6): 'I-VP', (2, 2): 'B-PP', (31, 31): 'B-NP', (12, 12): 'I-NP', (11, 11): 'I-NP', (7, 7): 'I-VP', (23, 23): 'O', (27, 27): 'B-NP', (25, 25): 'I-VP', (16, 16): 'B-PP', (22, 22): 'B-NP', (34, 34): 'B-NP', (37, 37): 'O', (33, 33): 'I-NP', (21, 21): 'B-NP', (26, 26): 'I-VP', (5, 5): 'B-VP', (10, 10): 'B-NP', (36, 36): 'I-NP', (4, 4): 'I-NP', (9, 9): 'I-VP', (17, 17): 'B-NP', (30, 30): 'B-PP', (24, 24): 'B-VP', (8, 8): 'I-VP', (32, 32): 'I-NP', (14, 14): 'B-NP', (18, 18): 'O', (3, 3): 'B-NP', (28, 28): 'I-NP', (19, 19): 'B-ADJP', (15, 15): 'I-NP', (1, 1): 'B-NP'}\n",
    "</pre>\n",
    "The keys in the dictionary are the boundaries (positions) the label/tag is spanning. In case of parsing/modeling sequences, a label/tag can span only one observation and hence the boundaries will be a tuple of the same position. However, if we are modeling/parsing segments, we will have varying boundaries as the labels are allowed to span multiple observations. Check the <a href=\"#segments\">segments section</a> for more info.\n",
    "\n",
    "<li><code class=\"pseq_attr\">flat_y</code>: list of labels at every position in the sequence. Example:\n",
    "<pre style=\"font-size:0.8em;\">\n",
    "flat_y:\n",
    "['B-NP', 'B-PP', 'B-NP', 'I-NP', 'B-VP', 'I-VP', 'I-VP', 'I-VP', 'I-VP', 'B-NP', 'I-NP', 'I-NP', 'B-SBAR', 'B-NP', 'I-NP', 'B-PP', 'B-NP', 'O', 'B-ADJP', 'B-PP', 'B-NP', 'B-NP', 'O', 'B-VP', 'I-VP', 'I-VP', 'B-NP', 'I-NP', 'I-NP', 'B-PP', 'B-NP', 'I-NP', 'I-NP', 'B-NP', 'I-NP', 'I-NP', 'O']\n",
    "</pre>\n",
    "\n",
    "There are other attributes in the <code class=\"pseq_class\">SequenceStruct</code> instance that could be further explored by consulting to the API docs of <a href=\"https://bitbucket.org/A_2/pyseqlab\">PySeqLab</a> package."
   ]
  },
  {
   "cell_type": "markdown",
   "metadata": {},
   "source": [
    "# 5. Constructing sequences programatically"
   ]
  },
  {
   "cell_type": "markdown",
   "metadata": {},
   "source": [
    "We have seen so far how to parse sequences from a text file following the <strong><span style=\"color:red;\">column-format</span></strong> template. Now, what if we want to construct the sequences from code (i.e. on the fly), can we do that? The answer is a definite <strong>Yes</strong>. To demonstrate this, suppose we have the sentence $s$ = \"The dog barks.\" and we want to represent it as an instance of our <code class=\"pseq_class\">SequeqnceStruct </code>class. \n",
    "<br/>\n",
    "\n",
    "First, we determine the different components of the sequence. As we defined in our terminology earlier, the sentence $s$ is a <em>sequence</em> with four <em>observations</em> each belonging to one type (i.e. <em>tracks</em>) in this case representing the words. So we denote <code class=\"pseq_code\">w</code> as the name of the track and we proceed to build the <code class=\"pseq_attr\">X</code> instance attribute of the sequence. For the labels, we have two options: \n",
    "<ol>\n",
    "<li>case of no labels are defined, we would get and empty list <code class=\"pseq_attr\">Y</code> instance attribute or</li>\n",
    "<li>case of defined labels, we would get <em>label</em> list <code class=\"pseq_attr\">Y</code> instance attribute </li>\n",
    "</ol>\n",
    "\n",
    "The cell below demonstrates the two options."
   ]
  },
  {
   "cell_type": "code",
   "execution_count": 7,
   "metadata": {
    "collapsed": false
   },
   "outputs": [
    {
     "name": "stdout",
     "output_type": "stream",
     "text": [
      "labels are not defined\n",
      "seq_1:\n",
      "X: {1: {'w': 'The'}, 2: {'w': 'dog'}, 3: {'w': 'barks'}, 4: {'w': '.'}}\n",
      "Y: {}\n",
      "flat_y: []\n",
      "----------------------------------------\n",
      "labels are defined\n",
      "X: {1: {'w': 'The'}, 2: {'w': 'dog'}, 3: {'w': 'barks'}, 4: {'w': '.'}}\n",
      "Y: {(3, 3): 'V', (4, 4): '.', (1, 1): 'DT', (2, 2): 'N'}\n",
      "flat_y: ['DT', 'N', 'V', '.']\n"
     ]
    }
   ],
   "source": [
    "# import SequenceStruct class\n",
    "from pyseqlab.utilities import SequenceStruct\n",
    "# define the X attribute\n",
    "X= [{'w':'The'}, {'w':'dog'}, {'w':'barks'}, {'w':'.'}]\n",
    "# empty label/tag sequence\n",
    "Y= []\n",
    "seq_1 = SequenceStruct(X, Y)\n",
    "print(\"labels are not defined\")\n",
    "print(\"seq_1:\")\n",
    "print(\"X:\", seq_1.X)\n",
    "print(\"Y:\", seq_1.Y)\n",
    "print(\"flat_y:\", seq_1.flat_y)\n",
    "\n",
    "print(\"-\"*40)\n",
    "print(\"labels are defined\")\n",
    "# defined label/tag sequence\n",
    "Y= ['DT', 'N', 'V', '.']\n",
    "seq_2 = SequenceStruct(X, Y)\n",
    "print(\"X:\", seq_2.X)\n",
    "print(\"Y:\", seq_2.Y)\n",
    "print(\"flat_y:\", seq_2.flat_y)\n",
    "\n"
   ]
  },
  {
   "cell_type": "markdown",
   "metadata": {},
   "source": [
    "<a id='segments'></a>"
   ]
  },
  {
   "cell_type": "markdown",
   "metadata": {},
   "source": [
    "# 6. Constructing segments programatically"
   ]
  },
  {
   "cell_type": "markdown",
   "metadata": {},
   "source": [
    "The discussion so far was focused on representing sequences. However, <a href=\"https://bitbucket.org/A_2/pyseqlab\">PySeqLab</a> provides another option that allows representing segments. \n",
    "\n",
    "By definition a segment is a sequence in which the labels span more than one observation. For example the sentence $s$ = \"Yale is found in New Haven.\" is a sequence of observations (<code class=\"pseq_code\">words</code>). The corresponding labels belong to one of three types {<span style=\"font-weight:bold;color:red;\">'University'</span>, <span style=\"font-weight:bold;color:green;\">'Location'</span>, <span style=\"font-weight:bold;color:blue;\">'Other'</span>}. These labels represent named entities that provide the words in $s$ with higher semantics. It is evident that the <span style=\"font-weight:bold;color:green;\">'Location'</span> label spans two observations (i.e. \"New Haven\") and as a result we can parse this sequence as a segment as opposed to a sequence. The cell below demonstrates the two possible representations."
   ]
  },
  {
   "cell_type": "code",
   "execution_count": 8,
   "metadata": {
    "collapsed": false
   },
   "outputs": [
    {
     "name": "stdout",
     "output_type": "stream",
     "text": [
      "Modeled as a sequence\n",
      "X: {1: {'w': 'Yale'}, 2: {'w': 'is'}, 3: {'w': 'in'}, 4: {'w': 'New'}, 5: {'w': 'Haven'}}\n",
      "Y: {(6, 6): 'Location', (5, 5): 'Location', (2, 2): 'Other', (4, 4): 'Other', (1, 1): 'University', (3, 3): 'Other'}\n",
      "flat_y: ['University', 'Other', 'Other', 'Other', 'Location', 'Location']\n",
      "----------------------------------------\n",
      "Modeled as a segment\n",
      "X: {1: {'w': 'Yale'}, 2: {'w': 'is'}, 3: {'w': 'in'}, 4: {'w': 'New'}, 5: {'w': 'Haven'}}\n",
      "Y: {(5, 6): 'Location', (3, 3): 'Other', (4, 4): 'Other', (1, 1): 'University', (2, 2): 'Other'}\n",
      "flat_y: ['University', 'Other', 'Other', 'Other', 'Location', 'Location']\n"
     ]
    }
   ],
   "source": [
    "# define the X attribute\n",
    "X = [{'w':'Yale'}, {'w':'is'}, {'w':'in'}, {'w':'New'}, {'w':'Haven'}]\n",
    "Y= [\"University\", \"Other\", \"Other\", \"Other\", \"Location\", \"Location\"]\n",
    "# model as a sequence\n",
    "seq_1 = SequenceStruct(X, Y)\n",
    "print(\"Modeled as a sequence\")\n",
    "print(\"X:\", seq_1.X)\n",
    "print(\"Y:\", seq_1.Y)\n",
    "print(\"flat_y:\", seq_1.flat_y)\n",
    "\n",
    "print(\"-\"*40)\n",
    "print(\"Modeled as a segment\")\n",
    "seq_2 = SequenceStruct(X, Y, seg_other_symbol=\"Other\")\n",
    "print(\"X:\", seq_2.X)\n",
    "print(\"Y:\", seq_2.Y)\n",
    "print(\"flat_y:\", seq_2.flat_y)"
   ]
  },
  {
   "cell_type": "markdown",
   "metadata": {},
   "source": [
    "As it can be seen, the difference is in how the <code class=\"pseq_attr\">Y</code> instance attribute is modeled between segments and sequences. The labels are allowed to span only one observation in a sequence while they can span multiple observations in segments (like the case of <span style=\"font-weight:bold;color:green;\">\"Location\"</span> label). This distinction is made possible thanks to the keyword argument <code class=\"pseq_args\">seg_other_symbol</code>. By specifying the non entity symbol equal to <span style=\"font-weight:bold;color:blue;\">'Other'</span> we can model segments. <br/>\n",
    "<strong><span style=\"color:red;\">NB</span></strong>: Non entity symbol can assume any value not only <span style=\"font-weight:bold;color:blue;\">'Other'</span>. That is, any symbol that we decide to represent the non entity symbol could be passed to <code class=\"pseq_args\">seg_other_symbol</code> keyword argument. Otherwise, if it is left unspecified (default is <code class=\"pseq_code\"><span style=\"color:blue;\">None</span></code>), we will obtain a sequence.\n",
    "\n",
    "The keyword argument <code class=\"pseq_args\">seg_other_symbol</code> has the same role as in the <code class=\"pseq_method\">read_file(args)</code> method in the <code class=\"pseq_class\">DataFileParser</code> class. That is, if we are reading segments from a file, we can specify the non entity symbol by passing the value to <code class=\"pseq_args\">seg_other_symbol</code> keyword argument in the\n",
    "<code class=\"pseq_method\">read_file(args)</code> method. You can try this as an exercise by reading <code class=\"pseq_code\">segments.txt</code> file located in the <code class=\"pseq_code\">segments</code> folder under the <code class=\"pseq_code\">datasets</code> directory (see the tree path below). <strong>Hint</strong>: the non entity symbol is <code class=\"pseq_code\">'O'</code> .... \n",
    "<pre style=\"font-size:0.8em;\">\n",
    "|---tutorials\n",
    "|        |---datasets\n",
    "|        |       |---conll2000\n",
    "|        |       |        |---test.txt\n",
    "|        |       |        |---train.txt\n",
    "|        |       |---segments\n",
    "|        |       |        |---segments.txt\n",
    "</pre>\n",
    "\n",
    ".... The solution is in the next cell :)"
   ]
  },
  {
   "cell_type": "code",
   "execution_count": 5,
   "metadata": {
    "collapsed": false
   },
   "outputs": [
    {
     "name": "stdout",
     "output_type": "stream",
     "text": [
      "X: {1: {'w': 'New'}, 2: {'w': 'Haven'}, 3: {'w': 'is'}, 4: {'w': 'beautiful'}, 5: {'w': '.'}}\n",
      "Y: {(1, 2): 'L', (4, 4): 'O', (5, 5): '.', (3, 3): 'O'}\n",
      "flat_y: ['L', 'L', 'O', 'O', '.']\n",
      "----------------------------------------\n",
      "X: {1: {'w': 'England'}, 2: {'w': 'is'}, 3: {'w': 'part'}, 4: {'w': 'of'}, 5: {'w': 'United'}, 6: {'w': 'Kingdom'}, 7: {'w': '.'}}\n",
      "Y: {(3, 3): 'O', (2, 2): 'O', (5, 6): 'L', (4, 4): 'O', (7, 7): '.', (1, 1): 'L'}\n",
      "flat_y: ['L', 'O', 'O', 'O', 'L', 'L', '.']\n",
      "----------------------------------------\n",
      "X: {1: {'w': 'Peter'}, 2: {'w': 'visited'}, 3: {'w': 'New'}, 4: {'w': 'York'}, 5: {'w': '.'}}\n",
      "Y: {(2, 2): 'O', (3, 4): 'L', (5, 5): '.', (1, 1): 'P'}\n",
      "flat_y: ['P', 'O', 'L', 'L', '.']\n",
      "----------------------------------------\n",
      "number of parsed segments is:  3\n"
     ]
    }
   ],
   "source": [
    "segments_dir= os.path.join(tutorials_dir, 'datasets', 'segments')\n",
    "# initialize a data file parser\n",
    "dparser = DataFileParser()\n",
    "# provide the options to parser such as the header info, the separator between words and if the y label is already existing\n",
    "# main means the header is found in the first line of the file\n",
    "header = \"main\"\n",
    "# y_ref is a boolean indicating if the label to predict is already found in the file\n",
    "y_ref = True\n",
    "# spearator between the words/observations\n",
    "column_sep = \",\"\n",
    "seg_other_symbol = 'O'\n",
    "seqs = []\n",
    "for seq in dparser.read_file(os.path.join(segments_dir, 'segments.txt'), \n",
    "                             header, y_ref=y_ref, column_sep = column_sep, \n",
    "                             seg_other_symbol=seg_other_symbol):\n",
    "    seqs.append(seq)\n",
    "    print(\"X:\", seq.X)\n",
    "    print(\"Y:\", seq.Y)\n",
    "    print(\"flat_y:\", seq.flat_y)\n",
    "    print(\"-\"*40)\n",
    "print(\"number of parsed segments is: \", len(seqs))"
   ]
  },
  {
   "cell_type": "code",
   "execution_count": null,
   "metadata": {
    "collapsed": true
   },
   "outputs": [],
   "source": []
  }
 ],
 "metadata": {
  "anaconda-cloud": {},
  "kernelspec": {
   "display_name": "Python [default]",
   "language": "python",
   "name": "python3"
  },
  "language_info": {
   "codemirror_mode": {
    "name": "ipython",
    "version": 3
   },
   "file_extension": ".py",
   "mimetype": "text/x-python",
   "name": "python",
   "nbconvert_exporter": "python",
   "pygments_lexer": "ipython3",
   "version": "3.5.2"
  }
 },
 "nbformat": 4,
 "nbformat_minor": 0
}
