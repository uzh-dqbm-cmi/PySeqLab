{
 "cells": [
  {
   "cell_type": "markdown",
   "metadata": {},
   "source": [
    "# Evaluating features extraction"
   ]
  },
  {
   "cell_type": "code",
   "execution_count": 1,
   "metadata": {
    "collapsed": false
   },
   "outputs": [],
   "source": [
    "import sys\n",
    "sys.path.insert(0, '/home/aa/git/pyseqlab_exp')\n",
    "import os\n",
    "%matplotlib inline\n",
    "import matplotlib\n",
    "import matplotlib.pyplot as plt\n",
    "from pyseqlab.features_extraction import FOFeatureExtractor, HOFeatureExtractor, SeqsRepresenter\n",
    "from pyseqlab.ho_crf_ad import HOCRFAD, HOCRFADModelRepresentation\n",
    "from pyseqlab.fo_crf import FirstOrderCRF, FirstOrderCRFModelRepresentation\n",
    "from pyseqlab.workflow import TrainingWorkflow\n",
    "from pyseqlab.utilities import ReaderWriter, SequenceStruct, TemplateGenerator, \\\n",
    "                               create_directory, generate_updated_model, generate_trained_model\n",
    "from pyseqlab.attributes_extraction import AttributeScaler, GenericAttributeExtractor, NERSegmentAttributeExtractor\n",
    "from pyseqlab.crf_learning import Learner\n",
    "\n",
    "# define frequently used directories\n",
    "current_dir = os.getcwd()\n",
    "root_dir = os.path.abspath(os.path.join(current_dir, os.pardir))\n",
    "def trainconfig_1():\n",
    "    template_generator = TemplateGenerator()\n",
    "    templateXY = {}\n",
    "    # generating template for tracks\n",
    "    template_generator.generate_template_XY('w', ('1-gram', range(0,1)), '1-state:2-states', templateXY)\n",
    "    templateY = {'Y':()}\n",
    "    filter_obj = None\n",
    "    ascaler_class = None\n",
    "    return(templateXY, templateY, ascaler_class, filter_obj)\n",
    "\n",
    "def trainconfig_2():\n",
    "    template_generator = TemplateGenerator()\n",
    "    templateXY = {}\n",
    "    # generating template for tracks\n",
    "    template_generator.generate_template_XY('w', ('1-gram', range(0,1)), '1-state:2-states', templateXY)\n",
    "    templateY = template_generator.generate_template_Y('2-states')\n",
    "    filter_obj = None\n",
    "    ascaler_class = None\n",
    "    return(templateXY, templateY, ascaler_class, filter_obj)\n",
    "\n",
    "def trainconfig_3():\n",
    "    template_generator = TemplateGenerator()\n",
    "    templateXY = {}\n",
    "    # generating template for tracks\n",
    "    template_generator.generate_template_XY('w', ('1-gram', range(0,1)), '1-state:2-states', templateXY)\n",
    "    templateY = template_generator.generate_template_Y('2-states:3-states')\n",
    "    filter_obj = None\n",
    "    ascaler_class = None\n",
    "    return(templateXY, templateY, ascaler_class, filter_obj)\n",
    "\n",
    "def trainconfig_4():\n",
    "    template_generator = TemplateGenerator()\n",
    "    templateXY = {}\n",
    "    # generating template for tracks\n",
    "    template_generator.generate_template_XY('w', ('1-gram', range(0,1)), '1-state:2-states', templateXY)\n",
    "    templateY = template_generator.generate_template_Y('1-state')\n",
    "    filter_obj = None\n",
    "    ascaler_class = None\n",
    "    return(templateXY, templateY, ascaler_class, filter_obj)\n",
    "\n",
    "def load_seqs():\n",
    "    seqs = []\n",
    "    X = [{'w':'The'}, {'w':'dog'}, {'w':'barks'}]\n",
    "    Y = ['DT', 'N', 'V']\n",
    "    seqs.append(SequenceStruct(X, Y))\n",
    "    X = [{'w':'Cool'}, {'w':'dog'}]\n",
    "    Y = ['ADJ', 'N']\n",
    "    seqs.append(SequenceStruct(X, Y))\n",
    "    return(seqs)\n",
    "\n",
    "def train_crfs(model_type, optimization_options, dsplit_options, trainconfig):\n",
    "    if(model_type == \"HO_AD\"):\n",
    "        crf_model = HOCRFAD\n",
    "        model_repr = HOCRFADModelRepresentation\n",
    "        fextractor = HOFeatureExtractor\n",
    "    elif(model_type == \"FO\"):\n",
    "        crf_model = FirstOrderCRF \n",
    "        model_repr = FirstOrderCRFModelRepresentation\n",
    "        fextractor = FOFeatureExtractor\n",
    "    template_xy, template_y, ascaler_class, filter_obj = trainconfig()\n",
    "    workflow_trainer = TrainingWorkflow(template_y, template_xy, model_repr, \n",
    "                                        crf_model, fextractor, NERSegmentAttributeExtractor,\n",
    "                                        \"\", optimization_options, root_dir, filter_obj)\n",
    "    seqs = load_seqs()\n",
    "    data_split = workflow_trainer.seq_parsing_workflow(seqs, dsplit_options)\n",
    "    models_info = workflow_trainer.traineval_folds(data_split, meval=False)\n",
    "\n"
   ]
  },
  {
   "cell_type": "code",
   "execution_count": 11,
   "metadata": {
    "collapsed": false
   },
   "outputs": [
    {
     "name": "stdout",
     "output_type": "stream",
     "text": [
      "/home/aa/git/pyseqlab_exp/tests\n"
     ]
    }
   ],
   "source": [
    "import os\n",
    "print(os.getcwd())"
   ]
  },
  {
   "cell_type": "code",
   "execution_count": 2,
   "metadata": {
    "collapsed": false
   },
   "outputs": [
    {
     "name": "stdout",
     "output_type": "stream",
     "text": [
      "boundary  (2, 2)\n",
      "xy_feat\n",
      "{'DT|N': {'w[0]=dog': 1}, 'N': {'w[0]=dog': 1}}\n",
      "y_feat\n",
      "{}\n",
      "xy_feat after join\n",
      "{'DT|N': {'w[0]=dog': 1}, 'N': {'w[0]=dog': 1}}\n",
      "boundary  (3, 3)\n",
      "xy_feat\n",
      "{'V': {'w[0]=barks': 1}, 'N|V': {'w[0]=barks': 1}}\n",
      "y_feat\n",
      "{}\n",
      "xy_feat after join\n",
      "{'V': {'w[0]=barks': 1}, 'N|V': {'w[0]=barks': 1}}\n",
      "boundary  (1, 1)\n",
      "xy_feat\n",
      "{'DT': {'w[0]=The': 1}}\n",
      "y_feat\n",
      "{}\n",
      "xy_feat after join\n",
      "{'DT': {'w[0]=The': 1}}\n",
      "dumping globalfeatures -- processed seqs:  1\n",
      "boundary  (1, 1)\n",
      "xy_feat\n",
      "{'ADJ': {'w[0]=Cool': 1}}\n",
      "y_feat\n",
      "{}\n",
      "xy_feat after join\n",
      "{'ADJ': {'w[0]=Cool': 1}}\n",
      "boundary  (2, 2)\n",
      "xy_feat\n",
      "{'ADJ|N': {'w[0]=dog': 1}, 'N': {'w[0]=dog': 1}}\n",
      "y_feat\n",
      "{}\n",
      "xy_feat after join\n",
      "{'ADJ|N': {'w[0]=dog': 1}, 'N': {'w[0]=dog': 1}}\n",
      "dumping globalfeatures -- processed seqs:  2\n",
      "constructing model -- processed seqs:  1\n",
      "constructing model -- processed seqs:  2\n",
      "identifying model active features -- processed seqs:  1\n",
      "identifying model active features -- processed seqs:  2\n",
      "inverted modelfeatures  {'w[0]=Cool': {1: {'ADJ'}}, 'w[0]=The': {1: {'DT'}}, 'w[0]=dog': {1: {'N'}, 2: {'ADJ|N', 'DT|N'}}, 'w[0]=barks': {1: {'V'}, 2: {'N|V'}}}\n",
      "model features  {'V': Counter({'w[0]=barks': 1}), 'N|V': Counter({'w[0]=barks': 1}), 'DT': Counter({'w[0]=The': 1}), 'DT|N': Counter({'w[0]=dog': 1}), 'N': Counter({'w[0]=dog': 2}), 'ADJ': Counter({'w[0]=Cool': 1}), 'ADJ|N': Counter({'w[0]=dog': 1})}\n",
      "apply filter  True\n",
      "ypatt_activestates  {}\n",
      "apply filter  True\n",
      "ypatt_activestates  {}\n",
      "apply filter  True\n",
      "ypatt_activestates  {}\n",
      "inverted modelfeatures  {'w[0]=Cool': {1: {'ADJ'}}, 'w[0]=The': {1: {'DT'}}, 'w[0]=dog': {1: {'N'}, 2: {'ADJ|N', 'DT|N'}}, 'w[0]=barks': {1: {'V'}, 2: {'N|V'}}}\n",
      "model features  {'V': Counter({'w[0]=barks': 1}), 'N|V': Counter({'w[0]=barks': 1}), 'DT': Counter({'w[0]=The': 1}), 'DT|N': Counter({'w[0]=dog': 1}), 'N': Counter({'w[0]=dog': 2}), 'ADJ': Counter({'w[0]=Cool': 1}), 'ADJ|N': Counter({'w[0]=dog': 1})}\n",
      "apply filter  True\n",
      "ypatt_activestates  {}\n",
      "apply filter  True\n",
      "ypatt_activestates  {}\n",
      "iteration  1\n",
      "iteration  2\n",
      "iteration  3\n",
      "iteration  4\n",
      "iteration  5\n",
      "iteration  6\n",
      "iteration  7\n",
      "iteration  8\n",
      "iteration  9\n",
      "iteration  10\n",
      "iteration  11\n",
      "iteration  12\n",
      "iteration  13\n",
      "iteration  14\n",
      "sequence decoded -- 1 sequences are left\n",
      "sequence decoded -- 0 sequences are left\n",
      "----------------------------------------\n",
      "boundary  (2, 2)\n",
      "xy_feat\n",
      "{'DT|N': {'w[0]=dog': 1}, 'N': {'w[0]=dog': 1}}\n",
      "y_feat\n",
      "{(-1, 0): {'DT|N': 1}}\n",
      "xy_feat after join\n",
      "{'DT|N': {'w[0]=dog': 1, 'DT|N': 1}, 'N': {'w[0]=dog': 1, 'DT|N': 1}}\n",
      "boundary  (3, 3)\n",
      "xy_feat\n",
      "{'V': {'w[0]=barks': 1}, 'N|V': {'w[0]=barks': 1}}\n",
      "y_feat\n",
      "{(-1, 0): {'N|V': 1}}\n",
      "xy_feat after join\n",
      "{'V': {'N|V': 1, 'w[0]=barks': 1}, 'N|V': {'N|V': 1, 'w[0]=barks': 1}}\n",
      "boundary  (1, 1)\n",
      "xy_feat\n",
      "{'DT': {'w[0]=The': 1}}\n",
      "y_feat\n",
      "{}\n",
      "xy_feat after join\n",
      "{'DT': {'w[0]=The': 1}}\n",
      "dumping globalfeatures -- processed seqs:  1\n",
      "boundary  (1, 1)\n",
      "xy_feat\n",
      "{'ADJ': {'w[0]=Cool': 1}}\n",
      "y_feat\n",
      "{}\n",
      "xy_feat after join\n",
      "{'ADJ': {'w[0]=Cool': 1}}\n",
      "boundary  (2, 2)\n",
      "xy_feat\n",
      "{'ADJ|N': {'w[0]=dog': 1}, 'N': {'w[0]=dog': 1}}\n",
      "y_feat\n",
      "{(-1, 0): {'ADJ|N': 1}}\n",
      "xy_feat after join\n",
      "{'ADJ|N': {'ADJ|N': 1, 'w[0]=dog': 1}, 'N': {'ADJ|N': 1, 'w[0]=dog': 1}}\n",
      "dumping globalfeatures -- processed seqs:  2\n",
      "constructing model -- processed seqs:  1\n",
      "constructing model -- processed seqs:  2\n",
      "identifying model active features -- processed seqs:  1\n",
      "identifying model active features -- processed seqs:  2\n",
      "inverted modelfeatures  {'N|V': {1: {'V'}, 2: {'N|V'}}, 'w[0]=dog': {1: {'N'}, 2: {'ADJ|N', 'DT|N'}}, 'w[0]=Cool': {1: {'ADJ'}}, 'ADJ|N': {1: {'N'}, 2: {'ADJ|N'}}, 'w[0]=The': {1: {'DT'}}, 'w[0]=barks': {1: {'V'}, 2: {'N|V'}}, 'DT|N': {1: {'N'}, 2: {'DT|N'}}}\n",
      "model features  {'V': Counter({'N|V': 1, 'w[0]=barks': 1}), 'N|V': Counter({'N|V': 1, 'w[0]=barks': 1}), 'DT': Counter({'w[0]=The': 1}), 'DT|N': Counter({'w[0]=dog': 1, 'DT|N': 1}), 'N': Counter({'w[0]=dog': 2, 'ADJ|N': 1, 'DT|N': 1}), 'ADJ': Counter({'w[0]=Cool': 1}), 'ADJ|N': Counter({'ADJ|N': 1, 'w[0]=dog': 1})}\n",
      "apply filter  False\n",
      "ypatt_activestates  {1: {'V', 'N'}, 2: {'N|V', 'ADJ|N', 'DT|N'}}\n"
     ]
    },
    {
     "ename": "KeyError",
     "evalue": "('V', 'V')",
     "output_type": "error",
     "traceback": [
      "\u001b[0;31m---------------------------------------------------------------------------\u001b[0m",
      "\u001b[0;31mKeyError\u001b[0m                                  Traceback (most recent call last)",
      "\u001b[0;32m<ipython-input-2-60d1ae66d87d>\u001b[0m in \u001b[0;36m<module>\u001b[0;34m()\u001b[0m\n\u001b[1;32m      6\u001b[0m \u001b[0mtrainconfigs\u001b[0m \u001b[0;34m=\u001b[0m \u001b[0;34m[\u001b[0m\u001b[0mtrainconfig_1\u001b[0m\u001b[0;34m,\u001b[0m \u001b[0mtrainconfig_2\u001b[0m\u001b[0;34m,\u001b[0m \u001b[0mtrainconfig_3\u001b[0m\u001b[0;34m,\u001b[0m \u001b[0mtrainconfig_4\u001b[0m\u001b[0;34m]\u001b[0m\u001b[0;34m\u001b[0m\u001b[0m\n\u001b[1;32m      7\u001b[0m \u001b[0;32mfor\u001b[0m \u001b[0mtrainconfig\u001b[0m \u001b[0;32min\u001b[0m \u001b[0mtrainconfigs\u001b[0m\u001b[0;34m:\u001b[0m\u001b[0;34m\u001b[0m\u001b[0m\n\u001b[0;32m----> 8\u001b[0;31m     \u001b[0mtrain_crfs\u001b[0m\u001b[0;34m(\u001b[0m\u001b[0;34m'HO_AD'\u001b[0m\u001b[0;34m,\u001b[0m \u001b[0moptimization_options\u001b[0m\u001b[0;34m,\u001b[0m \u001b[0mdsplit_options\u001b[0m\u001b[0;34m,\u001b[0m \u001b[0mtrainconfig\u001b[0m\u001b[0;34m)\u001b[0m\u001b[0;34m\u001b[0m\u001b[0m\n\u001b[0m\u001b[1;32m      9\u001b[0m     \u001b[0mprint\u001b[0m\u001b[0;34m(\u001b[0m\u001b[0;34m\"-\"\u001b[0m\u001b[0;34m*\u001b[0m\u001b[0;36m40\u001b[0m\u001b[0;34m)\u001b[0m\u001b[0;34m\u001b[0m\u001b[0m\n",
      "\u001b[0;32m<ipython-input-1-72ef2232b14d>\u001b[0m in \u001b[0;36mtrain_crfs\u001b[0;34m(model_type, optimization_options, dsplit_options, trainconfig)\u001b[0m\n\u001b[1;32m     81\u001b[0m     \u001b[0mseqs\u001b[0m \u001b[0;34m=\u001b[0m \u001b[0mload_seqs\u001b[0m\u001b[0;34m(\u001b[0m\u001b[0;34m)\u001b[0m\u001b[0;34m\u001b[0m\u001b[0m\n\u001b[1;32m     82\u001b[0m     \u001b[0mdata_split\u001b[0m \u001b[0;34m=\u001b[0m \u001b[0mworkflow_trainer\u001b[0m\u001b[0;34m.\u001b[0m\u001b[0mseq_parsing_workflow\u001b[0m\u001b[0;34m(\u001b[0m\u001b[0mseqs\u001b[0m\u001b[0;34m,\u001b[0m \u001b[0mdsplit_options\u001b[0m\u001b[0;34m)\u001b[0m\u001b[0;34m\u001b[0m\u001b[0m\n\u001b[0;32m---> 83\u001b[0;31m     \u001b[0mmodels_info\u001b[0m \u001b[0;34m=\u001b[0m \u001b[0mworkflow_trainer\u001b[0m\u001b[0;34m.\u001b[0m\u001b[0mtraineval_folds\u001b[0m\u001b[0;34m(\u001b[0m\u001b[0mdata_split\u001b[0m\u001b[0;34m,\u001b[0m \u001b[0mmeval\u001b[0m\u001b[0;34m=\u001b[0m\u001b[0;32mFalse\u001b[0m\u001b[0;34m)\u001b[0m\u001b[0;34m\u001b[0m\u001b[0m\n\u001b[0m\u001b[1;32m     84\u001b[0m \u001b[0;34m\u001b[0m\u001b[0m\n",
      "\u001b[0;32m/home/aa/git/pyseqlab_exp/pyseqlab/workflow.py\u001b[0m in \u001b[0;36mtraineval_folds\u001b[0;34m(self, data_split, meval, sep)\u001b[0m\n\u001b[1;32m    130\u001b[0m             \u001b[0mcrf_model\u001b[0m \u001b[0;34m=\u001b[0m \u001b[0mmodel_class\u001b[0m\u001b[0;34m(\u001b[0m\u001b[0mmodel_repr\u001b[0m\u001b[0;34m,\u001b[0m \u001b[0mseq_representer\u001b[0m\u001b[0;34m,\u001b[0m \u001b[0mseqs_info\u001b[0m\u001b[0;34m,\u001b[0m \u001b[0mload_info_fromdisk\u001b[0m \u001b[0;34m=\u001b[0m \u001b[0;36m4\u001b[0m\u001b[0;34m)\u001b[0m\u001b[0;34m\u001b[0m\u001b[0m\n\u001b[1;32m    131\u001b[0m             \u001b[0;31m# get the directory of the trained model\u001b[0m\u001b[0;34m\u001b[0m\u001b[0;34m\u001b[0m\u001b[0m\n\u001b[0;32m--> 132\u001b[0;31m             \u001b[0msavedmodel_info\u001b[0m \u001b[0;34m=\u001b[0m \u001b[0mself\u001b[0m\u001b[0;34m.\u001b[0m\u001b[0mtrain_model\u001b[0m\u001b[0;34m(\u001b[0m\u001b[0mtrainseqs_id\u001b[0m\u001b[0;34m,\u001b[0m \u001b[0mcrf_model\u001b[0m\u001b[0;34m)\u001b[0m\u001b[0;34m\u001b[0m\u001b[0m\n\u001b[0m\u001b[1;32m    133\u001b[0m             \u001b[0;31m# evaluate on the training data\u001b[0m\u001b[0;34m\u001b[0m\u001b[0;34m\u001b[0m\u001b[0m\n\u001b[1;32m    134\u001b[0m             \u001b[0mtrainseqs_info\u001b[0m \u001b[0;34m=\u001b[0m \u001b[0;34m{\u001b[0m\u001b[0mseq_id\u001b[0m\u001b[0;34m:\u001b[0m\u001b[0mseqs_info\u001b[0m\u001b[0;34m[\u001b[0m\u001b[0mseq_id\u001b[0m\u001b[0;34m]\u001b[0m \u001b[0;32mfor\u001b[0m \u001b[0mseq_id\u001b[0m \u001b[0;32min\u001b[0m \u001b[0mtrainseqs_id\u001b[0m\u001b[0;34m}\u001b[0m\u001b[0;34m\u001b[0m\u001b[0m\n",
      "\u001b[0;32m/home/aa/git/pyseqlab_exp/pyseqlab/workflow.py\u001b[0m in \u001b[0;36mtrain_model\u001b[0;34m(self, trainseqs_id, crf_model)\u001b[0m\n\u001b[1;32m    154\u001b[0m         \u001b[0moptimization_options\u001b[0m \u001b[0;34m=\u001b[0m \u001b[0mself\u001b[0m\u001b[0;34m.\u001b[0m\u001b[0moptimization_options\u001b[0m\u001b[0;34m\u001b[0m\u001b[0m\n\u001b[1;32m    155\u001b[0m         \u001b[0mlearner\u001b[0m \u001b[0;34m=\u001b[0m \u001b[0mLearner\u001b[0m\u001b[0;34m(\u001b[0m\u001b[0mcrf_model\u001b[0m\u001b[0;34m)\u001b[0m\u001b[0;34m\u001b[0m\u001b[0m\n\u001b[0;32m--> 156\u001b[0;31m         \u001b[0mlearner\u001b[0m\u001b[0;34m.\u001b[0m\u001b[0mtrain_model\u001b[0m\u001b[0;34m(\u001b[0m\u001b[0mcrf_model\u001b[0m\u001b[0;34m.\u001b[0m\u001b[0mweights\u001b[0m\u001b[0;34m,\u001b[0m \u001b[0mtrainseqs_id\u001b[0m\u001b[0;34m,\u001b[0m \u001b[0moptimization_options\u001b[0m\u001b[0;34m,\u001b[0m \u001b[0mworking_dir\u001b[0m\u001b[0;34m)\u001b[0m\u001b[0;34m\u001b[0m\u001b[0m\n\u001b[0m\u001b[1;32m    157\u001b[0m \u001b[0;34m\u001b[0m\u001b[0m\n\u001b[1;32m    158\u001b[0m         \u001b[0;32mreturn\u001b[0m\u001b[0;34m(\u001b[0m\u001b[0mlearner\u001b[0m\u001b[0;34m.\u001b[0m\u001b[0mtraining_description\u001b[0m\u001b[0;34m[\u001b[0m\u001b[0;34m'model_dir'\u001b[0m\u001b[0;34m]\u001b[0m\u001b[0;34m)\u001b[0m\u001b[0;34m\u001b[0m\u001b[0m\n",
      "\u001b[0;32m/home/aa/git/pyseqlab_exp/pyseqlab/crf_learning.py\u001b[0m in \u001b[0;36mtrain_model\u001b[0;34m(self, w0, seqs_id, optimization_options, working_dir, save_model)\u001b[0m\n\u001b[1;32m    292\u001b[0m \u001b[0;34m\u001b[0m\u001b[0m\n\u001b[1;32m    293\u001b[0m         \u001b[0;31m# if everything is defined correctly then estimate the parameters\u001b[0m\u001b[0;34m\u001b[0m\u001b[0;34m\u001b[0m\u001b[0m\n\u001b[0;32m--> 294\u001b[0;31m         \u001b[0mw_hat\u001b[0m \u001b[0;34m=\u001b[0m \u001b[0mestimate_weights\u001b[0m\u001b[0;34m(\u001b[0m\u001b[0mw0\u001b[0m\u001b[0;34m,\u001b[0m \u001b[0mseqs_id\u001b[0m\u001b[0;34m)\u001b[0m\u001b[0;34m\u001b[0m\u001b[0m\n\u001b[0m\u001b[1;32m    295\u001b[0m         \u001b[0;31m# update model weights to w_hat\u001b[0m\u001b[0;34m\u001b[0m\u001b[0;34m\u001b[0m\u001b[0m\n\u001b[1;32m    296\u001b[0m         \u001b[0mself\u001b[0m\u001b[0;34m.\u001b[0m\u001b[0mcrf_model\u001b[0m\u001b[0;34m.\u001b[0m\u001b[0mweights\u001b[0m \u001b[0;34m=\u001b[0m \u001b[0mw_hat\u001b[0m\u001b[0;34m\u001b[0m\u001b[0m\n",
      "\u001b[0;32m/home/aa/git/pyseqlab_exp/pyseqlab/crf_learning.py\u001b[0m in \u001b[0;36m_optimize_scipy\u001b[0;34m(self, w, train_seqs_id)\u001b[0m\n\u001b[1;32m    446\u001b[0m                                    \u001b[0mjac\u001b[0m \u001b[0;34m=\u001b[0m \u001b[0mgradfunc\u001b[0m\u001b[0;34m,\u001b[0m\u001b[0;34m\u001b[0m\u001b[0m\n\u001b[1;32m    447\u001b[0m                                    \u001b[0moptions\u001b[0m \u001b[0;34m=\u001b[0m \u001b[0moptions\u001b[0m\u001b[0;34m,\u001b[0m\u001b[0;34m\u001b[0m\u001b[0m\n\u001b[0;32m--> 448\u001b[0;31m                                    callback = self._track_scipy_optimizer)\n\u001b[0m\u001b[1;32m    449\u001b[0m \u001b[0;34m\u001b[0m\u001b[0m\n\u001b[1;32m    450\u001b[0m         \u001b[0mmodel_dir\u001b[0m \u001b[0;34m=\u001b[0m \u001b[0mself\u001b[0m\u001b[0;34m.\u001b[0m\u001b[0mtraining_description\u001b[0m\u001b[0;34m[\u001b[0m\u001b[0;34m\"model_dir\"\u001b[0m\u001b[0;34m]\u001b[0m\u001b[0;34m\u001b[0m\u001b[0m\n",
      "\u001b[0;32m/home/aa/anaconda/envs/pyv3/lib/python3.5/site-packages/scipy/optimize/_minimize.py\u001b[0m in \u001b[0;36mminimize\u001b[0;34m(fun, x0, args, method, jac, hess, hessp, bounds, constraints, tol, callback, options)\u001b[0m\n\u001b[1;32m    448\u001b[0m     \u001b[0;32melif\u001b[0m \u001b[0mmeth\u001b[0m \u001b[0;34m==\u001b[0m \u001b[0;34m'l-bfgs-b'\u001b[0m\u001b[0;34m:\u001b[0m\u001b[0;34m\u001b[0m\u001b[0m\n\u001b[1;32m    449\u001b[0m         return _minimize_lbfgsb(fun, x0, args, jac, bounds,\n\u001b[0;32m--> 450\u001b[0;31m                                 callback=callback, **options)\n\u001b[0m\u001b[1;32m    451\u001b[0m     \u001b[0;32melif\u001b[0m \u001b[0mmeth\u001b[0m \u001b[0;34m==\u001b[0m \u001b[0;34m'tnc'\u001b[0m\u001b[0;34m:\u001b[0m\u001b[0;34m\u001b[0m\u001b[0m\n\u001b[1;32m    452\u001b[0m         return _minimize_tnc(fun, x0, args, jac, bounds, callback=callback,\n",
      "\u001b[0;32m/home/aa/anaconda/envs/pyv3/lib/python3.5/site-packages/scipy/optimize/lbfgsb.py\u001b[0m in \u001b[0;36m_minimize_lbfgsb\u001b[0;34m(fun, x0, args, jac, bounds, disp, maxcor, ftol, gtol, eps, maxfun, maxiter, iprint, callback, maxls, **unknown_options)\u001b[0m\n\u001b[1;32m    326\u001b[0m             \u001b[0;31m# until the completion of the current minimization iteration.\u001b[0m\u001b[0;34m\u001b[0m\u001b[0;34m\u001b[0m\u001b[0m\n\u001b[1;32m    327\u001b[0m             \u001b[0;31m# Overwrite f and g:\u001b[0m\u001b[0;34m\u001b[0m\u001b[0;34m\u001b[0m\u001b[0m\n\u001b[0;32m--> 328\u001b[0;31m             \u001b[0mf\u001b[0m\u001b[0;34m,\u001b[0m \u001b[0mg\u001b[0m \u001b[0;34m=\u001b[0m \u001b[0mfunc_and_grad\u001b[0m\u001b[0;34m(\u001b[0m\u001b[0mx\u001b[0m\u001b[0;34m)\u001b[0m\u001b[0;34m\u001b[0m\u001b[0m\n\u001b[0m\u001b[1;32m    329\u001b[0m         \u001b[0;32melif\u001b[0m \u001b[0mtask_str\u001b[0m\u001b[0;34m.\u001b[0m\u001b[0mstartswith\u001b[0m\u001b[0;34m(\u001b[0m\u001b[0;34mb'NEW_X'\u001b[0m\u001b[0;34m)\u001b[0m\u001b[0;34m:\u001b[0m\u001b[0;34m\u001b[0m\u001b[0m\n\u001b[1;32m    330\u001b[0m             \u001b[0;31m# new iteration\u001b[0m\u001b[0;34m\u001b[0m\u001b[0;34m\u001b[0m\u001b[0m\n",
      "\u001b[0;32m/home/aa/anaconda/envs/pyv3/lib/python3.5/site-packages/scipy/optimize/lbfgsb.py\u001b[0m in \u001b[0;36mfunc_and_grad\u001b[0;34m(x)\u001b[0m\n\u001b[1;32m    276\u001b[0m     \u001b[0;32melse\u001b[0m\u001b[0;34m:\u001b[0m\u001b[0;34m\u001b[0m\u001b[0m\n\u001b[1;32m    277\u001b[0m         \u001b[0;32mdef\u001b[0m \u001b[0mfunc_and_grad\u001b[0m\u001b[0;34m(\u001b[0m\u001b[0mx\u001b[0m\u001b[0;34m)\u001b[0m\u001b[0;34m:\u001b[0m\u001b[0;34m\u001b[0m\u001b[0m\n\u001b[0;32m--> 278\u001b[0;31m             \u001b[0mf\u001b[0m \u001b[0;34m=\u001b[0m \u001b[0mfun\u001b[0m\u001b[0;34m(\u001b[0m\u001b[0mx\u001b[0m\u001b[0;34m,\u001b[0m \u001b[0;34m*\u001b[0m\u001b[0margs\u001b[0m\u001b[0;34m)\u001b[0m\u001b[0;34m\u001b[0m\u001b[0m\n\u001b[0m\u001b[1;32m    279\u001b[0m             \u001b[0mg\u001b[0m \u001b[0;34m=\u001b[0m \u001b[0mjac\u001b[0m\u001b[0;34m(\u001b[0m\u001b[0mx\u001b[0m\u001b[0;34m,\u001b[0m \u001b[0;34m*\u001b[0m\u001b[0margs\u001b[0m\u001b[0;34m)\u001b[0m\u001b[0;34m\u001b[0m\u001b[0m\n\u001b[1;32m    280\u001b[0m             \u001b[0;32mreturn\u001b[0m \u001b[0mf\u001b[0m\u001b[0;34m,\u001b[0m \u001b[0mg\u001b[0m\u001b[0;34m\u001b[0m\u001b[0m\n",
      "\u001b[0;32m/home/aa/anaconda/envs/pyv3/lib/python3.5/site-packages/scipy/optimize/optimize.py\u001b[0m in \u001b[0;36mfunction_wrapper\u001b[0;34m(*wrapper_args)\u001b[0m\n\u001b[1;32m    290\u001b[0m     \u001b[0;32mdef\u001b[0m \u001b[0mfunction_wrapper\u001b[0m\u001b[0;34m(\u001b[0m\u001b[0;34m*\u001b[0m\u001b[0mwrapper_args\u001b[0m\u001b[0;34m)\u001b[0m\u001b[0;34m:\u001b[0m\u001b[0;34m\u001b[0m\u001b[0m\n\u001b[1;32m    291\u001b[0m         \u001b[0mncalls\u001b[0m\u001b[0;34m[\u001b[0m\u001b[0;36m0\u001b[0m\u001b[0;34m]\u001b[0m \u001b[0;34m+=\u001b[0m \u001b[0;36m1\u001b[0m\u001b[0;34m\u001b[0m\u001b[0m\n\u001b[0;32m--> 292\u001b[0;31m         \u001b[0;32mreturn\u001b[0m \u001b[0mfunction\u001b[0m\u001b[0;34m(\u001b[0m\u001b[0;34m*\u001b[0m\u001b[0;34m(\u001b[0m\u001b[0mwrapper_args\u001b[0m \u001b[0;34m+\u001b[0m \u001b[0margs\u001b[0m\u001b[0;34m)\u001b[0m\u001b[0;34m)\u001b[0m\u001b[0;34m\u001b[0m\u001b[0m\n\u001b[0m\u001b[1;32m    293\u001b[0m \u001b[0;34m\u001b[0m\u001b[0m\n\u001b[1;32m    294\u001b[0m     \u001b[0;32mreturn\u001b[0m \u001b[0mncalls\u001b[0m\u001b[0;34m,\u001b[0m \u001b[0mfunction_wrapper\u001b[0m\u001b[0;34m\u001b[0m\u001b[0m\n",
      "\u001b[0;32m/home/aa/git/pyseqlab_exp/pyseqlab/crf_learning.py\u001b[0m in \u001b[0;36m_optscipy_seqs_loglikelihood\u001b[0;34m(self, w, seqs_id)\u001b[0m\n\u001b[1;32m    387\u001b[0m         \"\"\"\n\u001b[1;32m    388\u001b[0m         \u001b[0mcrf_model\u001b[0m \u001b[0;34m=\u001b[0m \u001b[0mself\u001b[0m\u001b[0;34m.\u001b[0m\u001b[0mcrf_model\u001b[0m\u001b[0;34m\u001b[0m\u001b[0m\n\u001b[0;32m--> 389\u001b[0;31m         \u001b[0mseqs_loglikelihood\u001b[0m \u001b[0;34m=\u001b[0m \u001b[0mcrf_model\u001b[0m\u001b[0;34m.\u001b[0m\u001b[0mcompute_seqs_loglikelihood\u001b[0m\u001b[0;34m(\u001b[0m\u001b[0mw\u001b[0m\u001b[0;34m,\u001b[0m \u001b[0mseqs_id\u001b[0m\u001b[0;34m)\u001b[0m\u001b[0;34m\u001b[0m\u001b[0m\n\u001b[0m\u001b[1;32m    390\u001b[0m         \u001b[0;31m# clear cached info\u001b[0m\u001b[0;34m\u001b[0m\u001b[0;34m\u001b[0m\u001b[0m\n\u001b[1;32m    391\u001b[0m         \u001b[0mcrf_model\u001b[0m\u001b[0;34m.\u001b[0m\u001b[0mclear_cached_info\u001b[0m\u001b[0;34m(\u001b[0m\u001b[0mseqs_id\u001b[0m\u001b[0;34m)\u001b[0m\u001b[0;34m\u001b[0m\u001b[0m\n",
      "\u001b[0;32m/home/aa/git/pyseqlab_exp/pyseqlab/linear_chain_crf.py\u001b[0m in \u001b[0;36mcompute_seqs_loglikelihood\u001b[0;34m(self, w, seqs_id)\u001b[0m\n\u001b[1;32m    837\u001b[0m         \u001b[0mseqs_loglikelihood\u001b[0m \u001b[0;34m=\u001b[0m \u001b[0;36m0\u001b[0m\u001b[0;34m\u001b[0m\u001b[0m\n\u001b[1;32m    838\u001b[0m         \u001b[0;32mfor\u001b[0m \u001b[0mseq_id\u001b[0m \u001b[0;32min\u001b[0m \u001b[0mseqs_id\u001b[0m\u001b[0;34m:\u001b[0m\u001b[0;34m\u001b[0m\u001b[0m\n\u001b[0;32m--> 839\u001b[0;31m             \u001b[0mseqs_loglikelihood\u001b[0m \u001b[0;34m+=\u001b[0m \u001b[0mself\u001b[0m\u001b[0;34m.\u001b[0m\u001b[0mcompute_seq_loglikelihood\u001b[0m\u001b[0;34m(\u001b[0m\u001b[0mw\u001b[0m\u001b[0;34m,\u001b[0m \u001b[0mseq_id\u001b[0m\u001b[0;34m)\u001b[0m\u001b[0;34m\u001b[0m\u001b[0m\n\u001b[0m\u001b[1;32m    840\u001b[0m         \u001b[0;32mreturn\u001b[0m\u001b[0;34m(\u001b[0m\u001b[0mseqs_loglikelihood\u001b[0m\u001b[0;34m)\u001b[0m\u001b[0;34m\u001b[0m\u001b[0m\n\u001b[1;32m    841\u001b[0m \u001b[0;34m\u001b[0m\u001b[0m\n",
      "\u001b[0;32m/home/aa/git/pyseqlab_exp/pyseqlab/linear_chain_crf.py\u001b[0m in \u001b[0;36mcompute_seq_loglikelihood\u001b[0;34m(self, w, seq_id)\u001b[0m\n\u001b[1;32m    783\u001b[0m         \u001b[0ml\u001b[0m\u001b[0;34m[\u001b[0m\u001b[0;34m'alpha'\u001b[0m\u001b[0;34m]\u001b[0m \u001b[0;34m=\u001b[0m \u001b[0;34m(\u001b[0m\u001b[0mw\u001b[0m\u001b[0;34m,\u001b[0m \u001b[0mseq_id\u001b[0m\u001b[0;34m)\u001b[0m\u001b[0;34m\u001b[0m\u001b[0m\n\u001b[1;32m    784\u001b[0m \u001b[0;34m\u001b[0m\u001b[0m\n\u001b[0;32m--> 785\u001b[0;31m         \u001b[0mself\u001b[0m\u001b[0;34m.\u001b[0m\u001b[0mcheck_cached_info\u001b[0m\u001b[0;34m(\u001b[0m\u001b[0mseq_id\u001b[0m\u001b[0;34m,\u001b[0m \u001b[0ml\u001b[0m\u001b[0;34m)\u001b[0m\u001b[0;34m\u001b[0m\u001b[0m\n\u001b[0m\u001b[1;32m    786\u001b[0m         \u001b[0;31m# get the p(X;w) -- probability of the sequence under parameter w\u001b[0m\u001b[0;34m\u001b[0m\u001b[0;34m\u001b[0m\u001b[0m\n\u001b[1;32m    787\u001b[0m         \u001b[0mZ\u001b[0m \u001b[0;34m=\u001b[0m \u001b[0mself\u001b[0m\u001b[0;34m.\u001b[0m\u001b[0mseqs_info\u001b[0m\u001b[0;34m[\u001b[0m\u001b[0mseq_id\u001b[0m\u001b[0;34m]\u001b[0m\u001b[0;34m[\u001b[0m\u001b[0;34m\"Z\"\u001b[0m\u001b[0;34m]\u001b[0m\u001b[0;34m\u001b[0m\u001b[0m\n",
      "\u001b[0;32m/home/aa/git/pyseqlab_exp/pyseqlab/linear_chain_crf.py\u001b[0m in \u001b[0;36mcheck_cached_info\u001b[0;34m(self, seq_id, entity_names)\u001b[0m\n\u001b[1;32m   1045\u001b[0m         \u001b[0;32mfor\u001b[0m \u001b[0mvarname\u001b[0m\u001b[0;34m,\u001b[0m \u001b[0margs\u001b[0m \u001b[0;32min\u001b[0m \u001b[0mentity_names\u001b[0m\u001b[0;34m.\u001b[0m\u001b[0mitems\u001b[0m\u001b[0;34m(\u001b[0m\u001b[0;34m)\u001b[0m\u001b[0;34m:\u001b[0m\u001b[0;34m\u001b[0m\u001b[0m\n\u001b[1;32m   1046\u001b[0m             \u001b[0;32mif\u001b[0m\u001b[0;34m(\u001b[0m\u001b[0mtype\u001b[0m\u001b[0;34m(\u001b[0m\u001b[0mseq_info\u001b[0m\u001b[0;34m.\u001b[0m\u001b[0mget\u001b[0m\u001b[0;34m(\u001b[0m\u001b[0mvarname\u001b[0m\u001b[0;34m)\u001b[0m\u001b[0;34m)\u001b[0m \u001b[0;34m==\u001b[0m \u001b[0mnone_type\u001b[0m\u001b[0;34m)\u001b[0m\u001b[0;34m:\u001b[0m\u001b[0;34m\u001b[0m\u001b[0m\n\u001b[0;32m-> 1047\u001b[0;31m                 \u001b[0mfunc_dict\u001b[0m\u001b[0;34m[\u001b[0m\u001b[0mvarname\u001b[0m\u001b[0;34m]\u001b[0m\u001b[0;34m(\u001b[0m\u001b[0;34m*\u001b[0m\u001b[0margs\u001b[0m\u001b[0;34m)\u001b[0m\u001b[0;34m\u001b[0m\u001b[0m\n\u001b[0m\u001b[1;32m   1048\u001b[0m \u001b[0;34m\u001b[0m\u001b[0m\n\u001b[1;32m   1049\u001b[0m     \u001b[0;32mdef\u001b[0m \u001b[0mclear_cached_info\u001b[0m\u001b[0;34m(\u001b[0m\u001b[0mself\u001b[0m\u001b[0;34m,\u001b[0m \u001b[0mseqs_id\u001b[0m\u001b[0;34m,\u001b[0m \u001b[0mcached_entities\u001b[0m \u001b[0;34m=\u001b[0m \u001b[0;34m[\u001b[0m\u001b[0;34m]\u001b[0m\u001b[0;34m)\u001b[0m\u001b[0;34m:\u001b[0m\u001b[0;34m\u001b[0m\u001b[0m\n",
      "\u001b[0;32m/home/aa/git/pyseqlab_exp/pyseqlab/linear_chain_crf.py\u001b[0m in \u001b[0;36mload_activefeatures\u001b[0;34m(self, seq_id)\u001b[0m\n\u001b[1;32m    941\u001b[0m             \u001b[0ml\u001b[0m\u001b[0;34m[\u001b[0m\u001b[0;34m'seg_features'\u001b[0m\u001b[0;34m]\u001b[0m \u001b[0;34m=\u001b[0m \u001b[0;34m(\u001b[0m\u001b[0mseq_id\u001b[0m\u001b[0;34m,\u001b[0m \u001b[0;34m)\u001b[0m\u001b[0;34m\u001b[0m\u001b[0m\n\u001b[1;32m    942\u001b[0m             \u001b[0mself\u001b[0m\u001b[0;34m.\u001b[0m\u001b[0mcheck_cached_info\u001b[0m\u001b[0;34m(\u001b[0m\u001b[0mseq_id\u001b[0m\u001b[0;34m,\u001b[0m \u001b[0ml\u001b[0m\u001b[0;34m)\u001b[0m\u001b[0;34m\u001b[0m\u001b[0m\n\u001b[0;32m--> 943\u001b[0;31m             \u001b[0mactivefeatures\u001b[0m \u001b[0;34m=\u001b[0m \u001b[0mself\u001b[0m\u001b[0;34m.\u001b[0m\u001b[0mgenerate_activefeatures\u001b[0m\u001b[0;34m(\u001b[0m\u001b[0mseq_id\u001b[0m\u001b[0;34m)\u001b[0m\u001b[0;34m\u001b[0m\u001b[0m\n\u001b[0m\u001b[1;32m    944\u001b[0m             \u001b[0mseq_dir\u001b[0m \u001b[0;34m=\u001b[0m \u001b[0mself\u001b[0m\u001b[0;34m.\u001b[0m\u001b[0mseqs_info\u001b[0m\u001b[0;34m[\u001b[0m\u001b[0mseq_id\u001b[0m\u001b[0;34m]\u001b[0m\u001b[0;34m[\u001b[0m\u001b[0;34m'activefeatures_dir'\u001b[0m\u001b[0;34m]\u001b[0m\u001b[0;34m\u001b[0m\u001b[0m\n\u001b[1;32m    945\u001b[0m             \u001b[0mReaderWriter\u001b[0m\u001b[0;34m.\u001b[0m\u001b[0mdump_data\u001b[0m\u001b[0;34m(\u001b[0m\u001b[0mactivefeatures\u001b[0m\u001b[0;34m,\u001b[0m \u001b[0mos\u001b[0m\u001b[0;34m.\u001b[0m\u001b[0mpath\u001b[0m\u001b[0;34m.\u001b[0m\u001b[0mjoin\u001b[0m\u001b[0;34m(\u001b[0m\u001b[0mseq_dir\u001b[0m\u001b[0;34m,\u001b[0m \u001b[0;34m'activefeatures'\u001b[0m\u001b[0;34m)\u001b[0m\u001b[0;34m)\u001b[0m\u001b[0;34m\u001b[0m\u001b[0m\n",
      "\u001b[0;32m/home/aa/git/pyseqlab_exp/pyseqlab/linear_chain_crf.py\u001b[0m in \u001b[0;36mgenerate_activefeatures\u001b[0;34m(self, seq_id)\u001b[0m\n\u001b[1;32m    703\u001b[0m                 \u001b[0mboundary\u001b[0m \u001b[0;34m=\u001b[0m \u001b[0;34m(\u001b[0m\u001b[0mu\u001b[0m\u001b[0;34m,\u001b[0m \u001b[0mv\u001b[0m\u001b[0;34m)\u001b[0m\u001b[0;34m\u001b[0m\u001b[0m\n\u001b[1;32m    704\u001b[0m                 \u001b[0;31m# identify active features\u001b[0m\u001b[0;34m\u001b[0m\u001b[0;34m\u001b[0m\u001b[0m\n\u001b[0;32m--> 705\u001b[0;31m                 \u001b[0mactive_features\u001b[0m \u001b[0;34m=\u001b[0m \u001b[0mself\u001b[0m\u001b[0;34m.\u001b[0m\u001b[0midentify_activefeatures\u001b[0m\u001b[0;34m(\u001b[0m\u001b[0mseq_id\u001b[0m\u001b[0;34m,\u001b[0m \u001b[0mboundary\u001b[0m\u001b[0;34m,\u001b[0m \u001b[0maccum_activestates\u001b[0m\u001b[0;34m,\u001b[0m \u001b[0mapply_filter\u001b[0m\u001b[0;34m=\u001b[0m\u001b[0mapply_filter\u001b[0m\u001b[0;34m)\u001b[0m\u001b[0;34m\u001b[0m\u001b[0m\n\u001b[0m\u001b[1;32m    706\u001b[0m                 \u001b[0mactivefeatures_perboundary\u001b[0m\u001b[0;34m[\u001b[0m\u001b[0mboundary\u001b[0m\u001b[0;34m]\u001b[0m \u001b[0;34m=\u001b[0m \u001b[0mactive_features\u001b[0m\u001b[0;34m\u001b[0m\u001b[0m\n\u001b[1;32m    707\u001b[0m         \u001b[0;32mreturn\u001b[0m\u001b[0;34m(\u001b[0m\u001b[0mactivefeatures_perboundary\u001b[0m\u001b[0;34m)\u001b[0m\u001b[0;34m\u001b[0m\u001b[0m\n",
      "\u001b[0;32m/home/aa/git/pyseqlab_exp/pyseqlab/linear_chain_crf.py\u001b[0m in \u001b[0;36midentify_activefeatures\u001b[0;34m(self, seq_id, boundary, accum_activestates, apply_filter)\u001b[0m\n\u001b[1;32m    634\u001b[0m         \u001b[0;32mif\u001b[0m\u001b[0;34m(\u001b[0m\u001b[0;32mnot\u001b[0m \u001b[0mapply_filter\u001b[0m\u001b[0;34m)\u001b[0m\u001b[0;34m:\u001b[0m \u001b[0;31m# case of no filtering\u001b[0m\u001b[0;34m\u001b[0m\u001b[0m\n\u001b[1;32m    635\u001b[0m             \u001b[0mseg_activefeatures\u001b[0m \u001b[0;34m=\u001b[0m \u001b[0mmodel\u001b[0m\u001b[0;34m.\u001b[0m\u001b[0mfind_seg_activefeatures\u001b[0m\u001b[0;34m(\u001b[0m\u001b[0mseg_features\u001b[0m\u001b[0;34m,\u001b[0m \u001b[0mallowed_z_len\u001b[0m\u001b[0;34m)\u001b[0m\u001b[0;34m\u001b[0m\u001b[0m\n\u001b[0;32m--> 636\u001b[0;31m             \u001b[0mypatt_activefeatures\u001b[0m \u001b[0;34m=\u001b[0m \u001b[0mmodel\u001b[0m\u001b[0;34m.\u001b[0m\u001b[0mfind_ypatt_activefeatures\u001b[0m\u001b[0;34m(\u001b[0m\u001b[0mallowed_z_len\u001b[0m\u001b[0;34m)\u001b[0m\u001b[0;34m\u001b[0m\u001b[0m\n\u001b[0m\u001b[1;32m    637\u001b[0m             \u001b[0;31m# combine both\u001b[0m\u001b[0;34m\u001b[0m\u001b[0;34m\u001b[0m\u001b[0m\n\u001b[1;32m    638\u001b[0m             \u001b[0maccumfeatures\u001b[0m \u001b[0;34m=\u001b[0m \u001b[0mseg_activefeatures\u001b[0m\u001b[0;34m\u001b[0m\u001b[0m\n",
      "\u001b[0;32m/home/aa/git/pyseqlab_exp/pyseqlab/linear_chain_crf.py\u001b[0m in \u001b[0;36mfind_ypatt_activefeatures\u001b[0;34m(self, allowed_z_len)\u001b[0m\n\u001b[1;32m    348\u001b[0m                         \u001b[0mactivefeatures\u001b[0m\u001b[0;34m[\u001b[0m\u001b[0mzpatt\u001b[0m\u001b[0;34m]\u001b[0m\u001b[0;34m[\u001b[0m\u001b[0mmodelfeatures_codebook\u001b[0m\u001b[0;34m[\u001b[0m\u001b[0mfkey\u001b[0m\u001b[0;34m]\u001b[0m\u001b[0;34m]\u001b[0m \u001b[0;34m=\u001b[0m \u001b[0;36m1\u001b[0m\u001b[0;34m\u001b[0m\u001b[0m\n\u001b[1;32m    349\u001b[0m                     \u001b[0;32melse\u001b[0m\u001b[0;34m:\u001b[0m\u001b[0;34m\u001b[0m\u001b[0m\n\u001b[0;32m--> 350\u001b[0;31m                         \u001b[0mactivefeatures\u001b[0m\u001b[0;34m[\u001b[0m\u001b[0mzpatt\u001b[0m\u001b[0;34m]\u001b[0m \u001b[0;34m=\u001b[0m \u001b[0;34m{\u001b[0m\u001b[0mmodelfeatures_codebook\u001b[0m\u001b[0;34m[\u001b[0m\u001b[0mfkey\u001b[0m\u001b[0;34m]\u001b[0m\u001b[0;34m:\u001b[0m\u001b[0;36m1\u001b[0m\u001b[0;34m}\u001b[0m\u001b[0;34m\u001b[0m\u001b[0m\n\u001b[0m\u001b[1;32m    351\u001b[0m \u001b[0;34m\u001b[0m\u001b[0m\n\u001b[1;32m    352\u001b[0m         \u001b[0;32mreturn\u001b[0m\u001b[0;34m(\u001b[0m\u001b[0mactivefeatures\u001b[0m\u001b[0;34m)\u001b[0m\u001b[0;34m\u001b[0m\u001b[0m\n",
      "\u001b[0;31mKeyError\u001b[0m: ('V', 'V')"
     ]
    }
   ],
   "source": [
    "dsplit_options = {'method':\"none\"}\n",
    "optimization_options = {'method': \"L-BFGS-B\",\n",
    "                            'regularization_type': 'l2',\n",
    "                            'regularization_value': 0\n",
    "                        }\n",
    "trainconfigs = [trainconfig_1, trainconfig_2, trainconfig_3, trainconfig_4]\n",
    "for trainconfig in trainconfigs:\n",
    "    train_crfs('HO_AD', optimization_options, dsplit_options, trainconfig)\n",
    "    print(\"-\"*40)"
   ]
  },
  {
   "cell_type": "code",
   "execution_count": 4,
   "metadata": {
    "collapsed": true
   },
   "outputs": [],
   "source": [
    "gfeatures_seq1 = ReaderWriter.read_data('/home/aa/git/pyseqlab_exp/working_dir/reference_corpus_2017_5_9-15_13_44_876325/global_features/seq_1/globalfeatures')"
   ]
  },
  {
   "cell_type": "code",
   "execution_count": 5,
   "metadata": {
    "collapsed": false
   },
   "outputs": [
    {
     "name": "stdout",
     "output_type": "stream",
     "text": [
      "{'DT|N': Counter({'DT|N': 1, 'w[0]=dog': 1}), 'N': Counter({'DT|N': 1, 'w[0]=dog': 1}), 'DT': Counter({'w[0]=The': 1}), 'V': Counter({'w[0]=barks': 1, 'N|V': 1}), 'N|V': Counter({'w[0]=barks': 1, 'N|V': 1})}\n"
     ]
    }
   ],
   "source": [
    "print(gfeatures_seq1)"
   ]
  },
  {
   "cell_type": "code",
   "execution_count": null,
   "metadata": {
    "collapsed": true
   },
   "outputs": [],
   "source": []
  }
 ],
 "metadata": {
  "kernelspec": {
   "display_name": "Python 3",
   "language": "python",
   "name": "python3"
  },
  "language_info": {
   "codemirror_mode": {
    "name": "ipython",
    "version": 3
   },
   "file_extension": ".py",
   "mimetype": "text/x-python",
   "name": "python",
   "nbconvert_exporter": "python",
   "pygments_lexer": "ipython3",
   "version": "3.5.3"
  }
 },
 "nbformat": 4,
 "nbformat_minor": 0
}
